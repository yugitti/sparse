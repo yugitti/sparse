{
 "cells": [
  {
   "cell_type": "code",
   "execution_count": 2,
   "metadata": {},
   "outputs": [],
   "source": [
    "import numpy as np\n",
    "import matplotlib.pyplot as plt\n",
    "import seaborn as sns\n",
    "import pandas as pd\n",
    "from sklearn import linear_model\n",
    "from sklearn import datasets\n",
    "from PIL import Image\n",
    "%matplotlib inline"
   ]
  },
  {
   "cell_type": "markdown",
   "metadata": {},
   "source": [
    "# 辞書の探求"
   ]
  },
  {
   "cell_type": "markdown",
   "metadata": {},
   "source": [
    "#### ランダムな辞書を生成"
   ]
  },
  {
   "cell_type": "code",
   "execution_count": 161,
   "metadata": {},
   "outputs": [],
   "source": [
    "A0 = np.random.randn(30, 60) ## 次元数 30, 辞書数60\n",
    "A0 = A0 @ np.diag(1 / np.sqrt(np.diag(A0.T @ A0)))"
   ]
  },
  {
   "cell_type": "code",
   "execution_count": 162,
   "metadata": {},
   "outputs": [
    {
     "data": {
      "text/plain": [
       "<matplotlib.colorbar.Colorbar at 0x1a19934da0>"
      ]
     },
     "execution_count": 162,
     "metadata": {},
     "output_type": "execute_result"
    },
    {
     "data": {
      "image/png": "[encoded data removed]",
      "text/plain": [
       "<Figure size 432x288 with 2 Axes>"
      ]
     },
     "metadata": {
      "needs_background": "dark"
     },
     "output_type": "display_data"
    }
   ],
   "source": [
    "plt.imshow(A0, cmap='gray', interpolation='Nearest')\n",
    "plt.colorbar(fraction=0.024, pad=0.04)"
   ]
  },
  {
   "cell_type": "markdown",
   "metadata": {},
   "source": [
    "#### 信号事例を生成"
   ]
  },
  {
   "cell_type": "code",
   "execution_count": 163,
   "metadata": {},
   "outputs": [],
   "source": [
    "y = np.zeros((30, 4000)) ## 次元数30, データ数4000\n",
    "sig = 0.1\n",
    "k0 = 4\n",
    "for i in range(4000):\n",
    "    y[:,i] = A0[:, np.random.permutation(range(60))[:k0]] @ np.random.randn(k0) + np.random.randn(30)*sig"
   ]
  },
  {
   "cell_type": "code",
   "execution_count": 164,
   "metadata": {},
   "outputs": [
    {
     "data": {
      "text/plain": [
       "<BarContainer object of 30 artists>"
      ]
     },
     "execution_count": 164,
     "metadata": {},
     "output_type": "execute_result"
    },
    {
     "data": {
      "image/png": "[encoded data removed]",
      "text/plain": [
       "<Figure size 432x288 with 1 Axes>"
      ]
     },
     "metadata": {
      "needs_background": "dark"
     },
     "output_type": "display_data"
    }
   ],
   "source": [
    "plt.bar(range(30), y[:,1])"
   ]
  },
  {
   "cell_type": "code",
   "execution_count": 165,
   "metadata": {},
   "outputs": [],
   "source": [
    "def OMP(X, y, k0=4, tol=1e-4):\n",
    "\n",
    "    if y.ndim != 2:\n",
    "        y = y.reshape(-1,1)\n",
    "    \n",
    "    theta = np.zeros([X.shape[1],1])\n",
    "    \n",
    "    S = np.zeros(X.shape[1], dtype=np.uint8)\n",
    "    r = y.copy()\n",
    "    rr = r.T @ r\n",
    "    for _ in range(k0):\n",
    "        err = rr - (X[:, S==0].T @ r)**2\n",
    "        ndx = np.where(S==0)[0]\n",
    "        S[ndx[err.argmin()]] = 1\n",
    "        Xs = X[:, S==1]\n",
    "        pinv = np.linalg.pinv(Xs @ Xs.T)\n",
    "        theta[S==1] = (Xs.T @ (pinv @ y)).reshape(-1,1)\n",
    "        r = y - (X @ theta)\n",
    "        rr = r.T @ r\n",
    "        if rr < tol:\n",
    "            break\n",
    "    \n",
    "    return theta.flatten(), S"
   ]
  },
  {
   "cell_type": "code",
   "execution_count": 166,
   "metadata": {},
   "outputs": [],
   "source": [
    "def percent_recovery_of_atoms(A, A0, threshold=0.99):\n",
    "    \"\"\" アトムの復元率を測る \"\"\"\n",
    "    num = 0\n",
    "    for m in range(A.shape[1]):\n",
    "        a = A0[:, m]\n",
    "        if np.abs(np.dot(a, A)).max() > threshold:\n",
    "            num += 1\n",
    "    return float(num) / A.shape[1] * 100"
   ]
  },
  {
   "cell_type": "code",
   "execution_count": 167,
   "metadata": {},
   "outputs": [],
   "source": [
    "def MOD(X, y, D, k0, tol=1e-4, n_iter=50, D0=None):\n",
    "    log = []\n",
    "    for n in range(n_iter):\n",
    "        for i in range(Y.shape[1]): ## データごとに処理\n",
    "            X[:,i], _ = OMP(D, y[:,i], k0=k0, tol=tol)\n",
    "        opt = np.abs( y - D @ X).mean()\n",
    "        XXTinv = np.linalg.pinv(X@X.T)\n",
    "        D = y @ (X.T @ XXTinv)\n",
    "        D = D @ np.diag(1.0 / np.sqrt(np.diag(D.T @ D))) ## 正規化\n",
    "        \n",
    "        if A0 is not None:\n",
    "            opt2 = percent_recovery_of_atoms(D, D0)\n",
    "            log.append((opt, opt2))\n",
    "        else:\n",
    "            log.append(opt)\n",
    "        print(n, log[n])\n",
    "    \n",
    "    return D, np.array(log)\n",
    "        "
   ]
  },
  {
   "cell_type": "code",
   "execution_count": 168,
   "metadata": {},
   "outputs": [],
   "source": [
    "D = y[:, :A0.shape[1]]\n",
    "D = D @ np.diag(1.0 / np.sqrt(np.diag( D.T @ D)))\n",
    "X = np.zeros([D.shape[1], y.shape[1]]) ## 辞書数 x データ数"
   ]
  },
  {
   "cell_type": "code",
   "execution_count": 169,
   "metadata": {},
   "outputs": [
    {
     "name": "stdout",
     "output_type": "stream",
     "text": [
      "0 (0.1535073906909208, 0.0)\n",
      "1 (0.13387920149544683, 0.0)\n",
      "2 (0.12289082007182821, 0.0)\n",
      "3 (0.11406531237964511, 6.666666666666667)\n",
      "4 (0.1071639162726967, 13.333333333333334)\n",
      "5 (0.10154248015771486, 26.666666666666668)\n",
      "6 (0.09642886586810777, 41.66666666666667)\n",
      "7 (0.09142144787047424, 53.333333333333336)\n",
      "8 (0.08706080780473291, 61.66666666666667)\n",
      "9 (0.08385941599305483, 68.33333333333333)\n",
      "10 (0.08144817881300126, 73.33333333333333)\n",
      "11 (0.07954031329836689, 78.33333333333333)\n",
      "12 (0.07776889188273912, 81.66666666666667)\n",
      "13 (0.07589790342089395, 83.33333333333334)\n",
      "14 (0.0744670604405061, 83.33333333333334)\n",
      "15 (0.07361700451398129, 86.66666666666667)\n",
      "16 (0.07314225659106091, 86.66666666666667)\n",
      "17 (0.07271962670739217, 88.33333333333333)\n",
      "18 (0.07232728638016926, 93.33333333333333)\n",
      "19 (0.0721163711086215, 93.33333333333333)\n",
      "20 (0.07195514850649867, 95.0)\n",
      "21 (0.07179888819480978, 95.0)\n",
      "22 (0.0717302639427724, 95.0)\n",
      "23 (0.07166999761871715, 95.0)\n",
      "24 (0.07167908137903975, 95.0)\n",
      "25 (0.07167625970103801, 95.0)\n",
      "26 (0.07168143623352952, 95.0)\n",
      "27 (0.07168553396101157, 95.0)\n",
      "28 (0.07167165716454259, 95.0)\n",
      "29 (0.07165000932826289, 95.0)\n",
      "30 (0.07162165650699123, 95.0)\n",
      "31 (0.0716158292109595, 95.0)\n",
      "32 (0.07160494796949003, 95.0)\n",
      "33 (0.0715782612162012, 95.0)\n",
      "34 (0.07159241812024134, 95.0)\n",
      "35 (0.07161615328845945, 95.0)\n",
      "36 (0.07161053184834115, 95.0)\n",
      "37 (0.07159646307134028, 95.0)\n",
      "38 (0.07159987187340351, 95.0)\n",
      "39 (0.07159469422888616, 95.0)\n",
      "40 (0.07156196933337021, 95.0)\n",
      "41 (0.07156059960451149, 95.0)\n",
      "42 (0.07156426219871788, 95.0)\n",
      "43 (0.07156584520811997, 95.0)\n",
      "44 (0.07156888803648866, 95.0)\n",
      "45 (0.07156904519405659, 95.0)\n",
      "46 (0.07158613488819777, 95.0)\n",
      "47 (0.07158739890282084, 95.0)\n",
      "48 (0.07159259055312038, 95.0)\n",
      "49 (0.07159308280403623, 95.0)\n"
     ]
    }
   ],
   "source": [
    "A_MOD, log_MOD = MOD(X, y, D, k0=k0, D0=A0)"
   ]
  },
  {
   "cell_type": "code",
   "execution_count": 173,
   "metadata": {},
   "outputs": [
    {
     "data": {
      "text/plain": [
       "[<matplotlib.lines.Line2D at 0x1a1a6ca6a0>]"
      ]
     },
     "execution_count": 173,
     "metadata": {},
     "output_type": "execute_result"
    },
    {
     "data": {
      "image/png": "[encoded data removed]",
      "text/plain": [
       "<Figure size 432x288 with 1 Axes>"
      ]
     },
     "metadata": {
      "needs_background": "dark"
     },
     "output_type": "display_data"
    }
   ],
   "source": [
    "plt.plot(log_MOD[:,0])"
   ]
  },
  {
   "cell_type": "code",
   "execution_count": null,
   "metadata": {},
   "outputs": [],
   "source": []
  }
 ],
 "metadata": {
  "kernelspec": {
   "display_name": "Python 3",
   "language": "python",
   "name": "python3"
  },
  "language_info": {
   "codemirror_mode": {
    "name": "ipython",
    "version": 3
   },
   "file_extension": ".py",
   "mimetype": "text/x-python",
   "name": "python",
   "nbconvert_exporter": "python",
   "pygments_lexer": "ipython3",
   "version": "3.6.6"
  }
 },
 "nbformat": 4,
 "nbformat_minor": 2
}
